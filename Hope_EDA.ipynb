{
 "cells": [
  {
   "cell_type": "code",
   "execution_count": 1,
   "id": "360336e0",
   "metadata": {},
   "outputs": [],
   "source": [
    "# Import required libraries for EDA\n",
    "import pandas as pd\n",
    "import numpy as np\n",
    "import matplotlib.pyplot as plt\n",
    "import seaborn as sns\n",
    "from collections import Counter\n",
    "import nltk"
   ]
  },
  {
   "cell_type": "markdown",
   "id": "042ead1f",
   "metadata": {},
   "source": [
    "## Tamil dataset"
   ]
  },
  {
   "cell_type": "markdown",
   "id": "9baa9627",
   "metadata": {},
   "source": [
    "### Load data (train/validation/test) from csv files"
   ]
  },
  {
   "cell_type": "code",
   "execution_count": 2,
   "id": "9635cd10",
   "metadata": {},
   "outputs": [],
   "source": [
    "# Loading data from Dataset folder\n",
    "tamil_train = pd.read_csv('Dataset/tamil_hope_first_train.csv')\n",
    "tamil_validation = pd.read_csv('Dataset/tamil_hope_first_dev.csv')\n",
    "tamil_test = pd.read_csv('Dataset/tamil_goldlabels.csv')"
   ]
  },
  {
   "cell_type": "markdown",
   "id": "71eeadce",
   "metadata": {},
   "source": [
    "### View sample records from train/validation/test data"
   ]
  },
  {
   "cell_type": "code",
   "execution_count": 3,
   "id": "a8f7fcef",
   "metadata": {
    "scrolled": true
   },
   "outputs": [
    {
     "data": {
      "text/html": [
       "<div>\n",
       "<style scoped>\n",
       "    .dataframe tbody tr th:only-of-type {\n",
       "        vertical-align: middle;\n",
       "    }\n",
       "\n",
       "    .dataframe tbody tr th {\n",
       "        vertical-align: top;\n",
       "    }\n",
       "\n",
       "    .dataframe thead th {\n",
       "        text-align: right;\n",
       "    }\n",
       "</style>\n",
       "<table border=\"1\" class=\"dataframe\">\n",
       "  <thead>\n",
       "    <tr style=\"text-align: right;\">\n",
       "      <th></th>\n",
       "      <th>text</th>\n",
       "      <th>label</th>\n",
       "    </tr>\n",
       "  </thead>\n",
       "  <tbody>\n",
       "    <tr>\n",
       "      <th>11657</th>\n",
       "      <td>ஷ வயலூர் ரே</td>\n",
       "      <td>Non_hope_speech</td>\n",
       "    </tr>\n",
       "    <tr>\n",
       "      <th>2749</th>\n",
       "      <td>Ellathayum uninstall pananum bro kandipa..naa ...</td>\n",
       "      <td>Non_hope_speech</td>\n",
       "    </tr>\n",
       "    <tr>\n",
       "      <th>3151</th>\n",
       "      <td>Ella namma data than avanukku iphone aa marrir...</td>\n",
       "      <td>not-Tamil</td>\n",
       "    </tr>\n",
       "    <tr>\n",
       "      <th>3594</th>\n",
       "      <td>@Kumar Kumar  me toooooo ‍</td>\n",
       "      <td>Non_hope_speech</td>\n",
       "    </tr>\n",
       "    <tr>\n",
       "      <th>6738</th>\n",
       "      <td>Wish you happy birthday to you maaaaa</td>\n",
       "      <td>Hope_speech</td>\n",
       "    </tr>\n",
       "  </tbody>\n",
       "</table>\n",
       "</div>"
      ],
      "text/plain": [
       "                                                    text            label\n",
       "11657                                        ஷ வயலூர் ரே  Non_hope_speech\n",
       "2749   Ellathayum uninstall pananum bro kandipa..naa ...  Non_hope_speech\n",
       "3151   Ella namma data than avanukku iphone aa marrir...        not-Tamil\n",
       "3594                          @Kumar Kumar  me toooooo ‍  Non_hope_speech\n",
       "6738               Wish you happy birthday to you maaaaa      Hope_speech"
      ]
     },
     "execution_count": 3,
     "metadata": {},
     "output_type": "execute_result"
    }
   ],
   "source": [
    "tamil_train.sample(5)"
   ]
  },
  {
   "cell_type": "code",
   "execution_count": 4,
   "id": "112ffbb6",
   "metadata": {},
   "outputs": [
    {
     "data": {
      "text/html": [
       "<div>\n",
       "<style scoped>\n",
       "    .dataframe tbody tr th:only-of-type {\n",
       "        vertical-align: middle;\n",
       "    }\n",
       "\n",
       "    .dataframe tbody tr th {\n",
       "        vertical-align: top;\n",
       "    }\n",
       "\n",
       "    .dataframe thead th {\n",
       "        text-align: right;\n",
       "    }\n",
       "</style>\n",
       "<table border=\"1\" class=\"dataframe\">\n",
       "  <thead>\n",
       "    <tr style=\"text-align: right;\">\n",
       "      <th></th>\n",
       "      <th>text</th>\n",
       "      <th>label</th>\n",
       "    </tr>\n",
       "  </thead>\n",
       "  <tbody>\n",
       "    <tr>\n",
       "      <th>82</th>\n",
       "      <td>China ku aapu punda dhan bro</td>\n",
       "      <td>Non_hope_speech</td>\n",
       "    </tr>\n",
       "    <tr>\n",
       "      <th>812</th>\n",
       "      <td>சில விடுகளில் சானம் கோமியம் மற்றும் உடல் தூக்க...</td>\n",
       "      <td>Hope_speech</td>\n",
       "    </tr>\n",
       "    <tr>\n",
       "      <th>1957</th>\n",
       "      <td>We need made in india</td>\n",
       "      <td>not-Tamil</td>\n",
       "    </tr>\n",
       "    <tr>\n",
       "      <th>721</th>\n",
       "      <td>Bothi dharmar thaan varanum</td>\n",
       "      <td>Non_hope_speech</td>\n",
       "    </tr>\n",
       "    <tr>\n",
       "      <th>1255</th>\n",
       "      <td>bro bharat biotech kandhu pidicha CORONA VACCI...</td>\n",
       "      <td>Hope_speech</td>\n",
       "    </tr>\n",
       "  </tbody>\n",
       "</table>\n",
       "</div>"
      ],
      "text/plain": [
       "                                                   text            label\n",
       "82                         China ku aapu punda dhan bro  Non_hope_speech\n",
       "812   சில விடுகளில் சானம் கோமியம் மற்றும் உடல் தூக்க...      Hope_speech\n",
       "1957                              We need made in india        not-Tamil\n",
       "721                         Bothi dharmar thaan varanum  Non_hope_speech\n",
       "1255  bro bharat biotech kandhu pidicha CORONA VACCI...      Hope_speech"
      ]
     },
     "execution_count": 4,
     "metadata": {},
     "output_type": "execute_result"
    }
   ],
   "source": [
    "tamil_validation.sample(5)"
   ]
  },
  {
   "cell_type": "code",
   "execution_count": 5,
   "id": "b92be9f4",
   "metadata": {
    "scrolled": true
   },
   "outputs": [
    {
     "data": {
      "text/html": [
       "<div>\n",
       "<style scoped>\n",
       "    .dataframe tbody tr th:only-of-type {\n",
       "        vertical-align: middle;\n",
       "    }\n",
       "\n",
       "    .dataframe tbody tr th {\n",
       "        vertical-align: top;\n",
       "    }\n",
       "\n",
       "    .dataframe thead th {\n",
       "        text-align: right;\n",
       "    }\n",
       "</style>\n",
       "<table border=\"1\" class=\"dataframe\">\n",
       "  <thead>\n",
       "    <tr style=\"text-align: right;\">\n",
       "      <th></th>\n",
       "      <th>text</th>\n",
       "      <th>label</th>\n",
       "    </tr>\n",
       "  </thead>\n",
       "  <tbody>\n",
       "    <tr>\n",
       "      <th>1069</th>\n",
       "      <td>Samsung lovers just like HIT</td>\n",
       "      <td>Hope_speech</td>\n",
       "    </tr>\n",
       "    <tr>\n",
       "      <th>302</th>\n",
       "      <td>first mi phone ya olikanum</td>\n",
       "      <td>Non_hope_speech</td>\n",
       "    </tr>\n",
       "    <tr>\n",
       "      <th>1529</th>\n",
       "      <td>MG squad   hi anna</td>\n",
       "      <td>Non_hope_speech</td>\n",
       "    </tr>\n",
       "    <tr>\n",
       "      <th>1618</th>\n",
       "      <td>பொன்னுங்க நூடுல்ஸ் சாப்டாம இருங்க போதும்</td>\n",
       "      <td>Non_hope_speech</td>\n",
       "    </tr>\n",
       "    <tr>\n",
       "      <th>130</th>\n",
       "      <td>இன்னும் சமுதாய தோற்று ஆகல.. அப்படித்தான</td>\n",
       "      <td>Non_hope_speech</td>\n",
       "    </tr>\n",
       "  </tbody>\n",
       "</table>\n",
       "</div>"
      ],
      "text/plain": [
       "                                          text            label\n",
       "1069              Samsung lovers just like HIT      Hope_speech\n",
       "302                 first mi phone ya olikanum  Non_hope_speech\n",
       "1529                        MG squad   hi anna  Non_hope_speech\n",
       "1618  பொன்னுங்க நூடுல்ஸ் சாப்டாம இருங்க போதும்  Non_hope_speech\n",
       "130    இன்னும் சமுதாய தோற்று ஆகல.. அப்படித்தான  Non_hope_speech"
      ]
     },
     "execution_count": 5,
     "metadata": {},
     "output_type": "execute_result"
    }
   ],
   "source": [
    "tamil_test.sample(5)"
   ]
  },
  {
   "cell_type": "code",
   "execution_count": 6,
   "id": "afc24380",
   "metadata": {
    "scrolled": true
   },
   "outputs": [
    {
     "name": "stdout",
     "output_type": "stream",
     "text": [
      "<class 'pandas.core.frame.DataFrame'>\n",
      "RangeIndex: 16160 entries, 0 to 16159\n",
      "Data columns (total 2 columns):\n",
      " #   Column  Non-Null Count  Dtype \n",
      "---  ------  --------------  ----- \n",
      " 0   text    16160 non-null  object\n",
      " 1   label   16160 non-null  object\n",
      "dtypes: object(2)\n",
      "memory usage: 252.6+ KB\n"
     ]
    }
   ],
   "source": [
    "tamil_train.info()"
   ]
  },
  {
   "cell_type": "code",
   "execution_count": 7,
   "id": "038051cc",
   "metadata": {},
   "outputs": [
    {
     "name": "stdout",
     "output_type": "stream",
     "text": [
      "<class 'pandas.core.frame.DataFrame'>\n",
      "RangeIndex: 2018 entries, 0 to 2017\n",
      "Data columns (total 2 columns):\n",
      " #   Column  Non-Null Count  Dtype \n",
      "---  ------  --------------  ----- \n",
      " 0   text    2018 non-null   object\n",
      " 1   label   2018 non-null   object\n",
      "dtypes: object(2)\n",
      "memory usage: 31.7+ KB\n"
     ]
    }
   ],
   "source": [
    "tamil_validation.info()"
   ]
  },
  {
   "cell_type": "code",
   "execution_count": 8,
   "id": "01018514",
   "metadata": {},
   "outputs": [
    {
     "name": "stdout",
     "output_type": "stream",
     "text": [
      "<class 'pandas.core.frame.DataFrame'>\n",
      "RangeIndex: 2020 entries, 0 to 2019\n",
      "Data columns (total 2 columns):\n",
      " #   Column  Non-Null Count  Dtype \n",
      "---  ------  --------------  ----- \n",
      " 0   text    2020 non-null   object\n",
      " 1   label   2020 non-null   object\n",
      "dtypes: object(2)\n",
      "memory usage: 31.7+ KB\n"
     ]
    }
   ],
   "source": [
    "tamil_test.info()"
   ]
  },
  {
   "cell_type": "markdown",
   "id": "7951f402",
   "metadata": {},
   "source": [
    "### Get label counts for train/validation/test data and visualize"
   ]
  },
  {
   "cell_type": "code",
   "execution_count": 9,
   "id": "86bac32c",
   "metadata": {
    "scrolled": true
   },
   "outputs": [
    {
     "name": "stdout",
     "output_type": "stream",
     "text": [
      "Non_hope_speech    7872\n",
      "Hope_speech        6327\n",
      "not-Tamil          1961\n",
      "Name: label, dtype: int64\n",
      "Non_hope_speech    998\n",
      "Hope_speech        757\n",
      "not-Tamil          263\n",
      "Name: label, dtype: int64\n",
      "Non_hope_speech    946\n",
      "Hope_speech        815\n",
      "not-Tamil          259\n",
      "Name: label, dtype: int64\n"
     ]
    }
   ],
   "source": [
    "label_counts_train = tamil_train['label'].value_counts()\n",
    "label_counts_valid = tamil_validation['label'].value_counts()\n",
    "label_counts_test = tamil_test['label'].value_counts()\n",
    "print(label_counts_train)\n",
    "print(label_counts_valid)\n",
    "print(label_counts_test)"
   ]
  },
  {
   "cell_type": "code",
   "execution_count": 10,
   "id": "670dc607",
   "metadata": {},
   "outputs": [
    {
     "name": "stdout",
     "output_type": "stream",
     "text": [
      "Non_hope_speech    0.487129\n",
      "Hope_speech        0.391522\n",
      "not-Tamil          0.121349\n",
      "Name: label, dtype: float64\n",
      "Non_hope_speech    0.494549\n",
      "Hope_speech        0.375124\n",
      "not-Tamil          0.130327\n",
      "Name: label, dtype: float64\n",
      "Non_hope_speech    0.468317\n",
      "Hope_speech        0.403465\n",
      "not-Tamil          0.128218\n",
      "Name: label, dtype: float64\n"
     ]
    }
   ],
   "source": [
    "norm_label_counts_train = tamil_train['label'].value_counts(normalize=True)\n",
    "norm_label_counts_valid = tamil_validation['label'].value_counts(normalize=True)\n",
    "norm_label_counts_test = tamil_test['label'].value_counts(normalize=True)\n",
    "print(norm_label_counts_train)\n",
    "print(norm_label_counts_valid)\n",
    "print(norm_label_counts_test)"
   ]
  },
  {
   "cell_type": "code",
   "execution_count": 11,
   "id": "70c0eb8d",
   "metadata": {},
   "outputs": [
    {
     "data": {
      "image/png": "[encoded data removed]",
      "text/plain": [
       "<Figure size 1800x432 with 3 Axes>"
      ]
     },
     "metadata": {
      "needs_background": "light"
     },
     "output_type": "display_data"
    }
   ],
   "source": [
    "fig = plt.figure(figsize=(25,6))\n",
    "fig.subplots(1, 3, squeeze=False)\n",
    "plt.subplot(1,3,1)\n",
    "sns.barplot(x=label_counts_train.index, y=label_counts_train.values)\n",
    "plt.title('Train labels')\n",
    "plt.subplot(1,3,2)\n",
    "sns.barplot(x=label_counts_valid.index, y=label_counts_valid.values)\n",
    "plt.title('Validation labels')\n",
    "plt.subplot(1,3,3)\n",
    "sns.barplot(x=label_counts_test.index, y=label_counts_test.values)\n",
    "plt.title('Test labels')\n",
    "plt.show()"
   ]
  },
  {
   "cell_type": "markdown",
   "id": "42622ee5",
   "metadata": {},
   "source": [
    "- We can observe that there is a class imbalance across the target labels\n",
    "- The ratio of the target labels are almost similar across train/test/validation datasets"
   ]
  },
  {
   "cell_type": "markdown",
   "id": "fac19be8",
   "metadata": {},
   "source": [
    "### Get the word count for each text and visualize"
   ]
  },
  {
   "cell_type": "code",
   "execution_count": 12,
   "id": "ff0e08f2",
   "metadata": {},
   "outputs": [],
   "source": [
    "tamil_train[\"WordCount\"] = tamil_train[\"text\"].str.split().apply(len)\n",
    "tamil_validation[\"WordCount\"] = tamil_validation[\"text\"].str.split().apply(len)\n",
    "tamil_test[\"WordCount\"] = tamil_test[\"text\"].str.split().apply(len)"
   ]
  },
  {
   "cell_type": "code",
   "execution_count": 13,
   "id": "362d5947",
   "metadata": {},
   "outputs": [
    {
     "data": {
      "image/png": "[encoded data removed]",
      "text/plain": [
       "<Figure size 1800x432 with 3 Axes>"
      ]
     },
     "metadata": {
      "needs_background": "light"
     },
     "output_type": "display_data"
    }
   ],
   "source": [
    "fig = plt.figure(figsize=(25,6))\n",
    "fig.subplots(1, 3, squeeze=False)\n",
    "plt.subplot(1,3,1)\n",
    "sns.boxplot(data=tamil_train, x='label', y='WordCount')\n",
    "plt.title('Train word count distribution')\n",
    "plt.subplot(1,3,2)\n",
    "sns.boxplot(data=tamil_validation, x='label', y='WordCount')\n",
    "plt.title('Validation word count distribution')\n",
    "plt.subplot(1,3,3)\n",
    "sns.boxplot(data=tamil_test, x='label', y='WordCount')\n",
    "plt.title('Test word count distribution')\n",
    "plt.show()"
   ]
  },
  {
   "cell_type": "markdown",
   "id": "b401b8cc",
   "metadata": {},
   "source": [
    "- We can observe that most of the texts are less than 100 words barring a few outliers in the range of 100-190\n",
    "- 'Not-tamil' texts are usually short (<50 words) compared to other two labels"
   ]
  },
  {
   "cell_type": "code",
   "execution_count": 14,
   "id": "20eeffe4",
   "metadata": {},
   "outputs": [
    {
     "data": {
      "image/png": "[encoded data removed]",
      "text/plain": [
       "<Figure size 864x720 with 1 Axes>"
      ]
     },
     "metadata": {
      "needs_background": "light"
     },
     "output_type": "display_data"
    }
   ],
   "source": [
    "train_texts = tamil_train['text']\n",
    "train_texts_str = ' '.join(train_texts)\n",
    "train_tokens = train_texts_str.split(' ')\n",
    "train_vocabulary = [w.lower() for w in train_tokens if w.isalpha()]\n",
    "val_count=Counter(train_vocabulary)\n",
    "# the top 30 occuring words in the text\n",
    "top_30 = val_count.most_common(30)\n",
    "top_30_df = pd.DataFrame(top_30, columns=['word', 'count'])\n",
    "plt.figure(figsize=(12,10))\n",
    "sns.barplot(y=\"word\", x=\"count\", data=top_30_df)\n",
    "plt.title('Top words in Train data')\n",
    "plt.show()"
   ]
  },
  {
   "cell_type": "code",
   "execution_count": 15,
   "id": "90bf7ea0",
   "metadata": {},
   "outputs": [
    {
     "data": {
      "image/png": "[encoded data removed]",
      "text/plain": [
       "<Figure size 864x720 with 1 Axes>"
      ]
     },
     "metadata": {
      "needs_background": "light"
     },
     "output_type": "display_data"
    }
   ],
   "source": [
    "test_texts = tamil_test['text']\n",
    "test_texts_str = ' '.join(test_texts)\n",
    "test_tokens = test_texts_str.split(' ')\n",
    "test_vocabulary = [w.lower() for w in test_tokens if w.isalpha()]\n",
    "val_count=Counter(test_vocabulary)\n",
    "# the top 30 occuring words in the text\n",
    "top_30 = val_count.most_common(30)\n",
    "top_30_df = pd.DataFrame(top_30, columns=['word', 'count'])\n",
    "plt.figure(figsize=(12,10))\n",
    "sns.barplot(y=\"word\", x=\"count\", data=top_30_df)\n",
    "plt.title('Top words in test data')\n",
    "plt.show()"
   ]
  },
  {
   "cell_type": "code",
   "execution_count": 16,
   "id": "57d8ba24",
   "metadata": {},
   "outputs": [
    {
     "data": {
      "image/png": "[encoded data removed]",
      "text/plain": [
       "<Figure size 864x720 with 1 Axes>"
      ]
     },
     "metadata": {
      "needs_background": "light"
     },
     "output_type": "display_data"
    }
   ],
   "source": [
    "valid_texts = tamil_validation['text']\n",
    "valid_texts_str = ' '.join(valid_texts)\n",
    "valid_tokens = valid_texts_str.split(' ')\n",
    "valid_vocabulary = [w.lower() for w in valid_tokens if w.isalpha()]\n",
    "val_count=Counter(valid_vocabulary)\n",
    "# the top 30 occuring words in the text\n",
    "top_30 = val_count.most_common(30)\n",
    "top_30_df = pd.DataFrame(top_30, columns=['word', 'count'])\n",
    "plt.figure(figsize=(12,10))\n",
    "sns.barplot(y=\"word\", x=\"count\", data=top_30_df)\n",
    "plt.title('Top words in validation data')\n",
    "plt.show()"
   ]
  },
  {
   "cell_type": "markdown",
   "id": "8ed0f7bf",
   "metadata": {},
   "source": [
    "## Malayalam dataset"
   ]
  },
  {
   "cell_type": "markdown",
   "id": "3c90a611",
   "metadata": {},
   "source": [
    "### Load data (train/validation/test) from csv files"
   ]
  },
  {
   "cell_type": "code",
   "execution_count": 17,
   "id": "013ae9d1",
   "metadata": {},
   "outputs": [],
   "source": [
    "# Loading data from Dataset folder\n",
    "mal_train = pd.read_csv('Dataset/malayalam_hope_train.csv')\n",
    "mal_validation = pd.read_csv('Dataset/malayalam_hope_dev.csv')\n",
    "mal_test = pd.read_csv('Dataset/malayalam_goldlabels.csv')"
   ]
  },
  {
   "cell_type": "markdown",
   "id": "ba25d963",
   "metadata": {},
   "source": [
    "### View sample records from train/validation/test data"
   ]
  },
  {
   "cell_type": "code",
   "execution_count": 18,
   "id": "ace0e83b",
   "metadata": {
    "scrolled": true
   },
   "outputs": [
    {
     "data": {
      "text/html": [
       "<div>\n",
       "<style scoped>\n",
       "    .dataframe tbody tr th:only-of-type {\n",
       "        vertical-align: middle;\n",
       "    }\n",
       "\n",
       "    .dataframe tbody tr th {\n",
       "        vertical-align: top;\n",
       "    }\n",
       "\n",
       "    .dataframe thead th {\n",
       "        text-align: right;\n",
       "    }\n",
       "</style>\n",
       "<table border=\"1\" class=\"dataframe\">\n",
       "  <thead>\n",
       "    <tr style=\"text-align: right;\">\n",
       "      <th></th>\n",
       "      <th>text</th>\n",
       "      <th>label</th>\n",
       "    </tr>\n",
       "  </thead>\n",
       "  <tbody>\n",
       "    <tr>\n",
       "      <th>4337</th>\n",
       "      <td>Innu pubg delete cheythit video kanunna njan</td>\n",
       "      <td>Non_hope_speech</td>\n",
       "    </tr>\n",
       "    <tr>\n",
       "      <th>6063</th>\n",
       "      <td>Apol made in India enn vivo de putiya phonil u...</td>\n",
       "      <td>Non_hope_speech</td>\n",
       "    </tr>\n",
       "    <tr>\n",
       "      <th>1228</th>\n",
       "      <td>@surya kiran മനുഷ്യനും മൃഗവും വേറെ വേറയാണ്</td>\n",
       "      <td>Non_hope_speech</td>\n",
       "    </tr>\n",
       "    <tr>\n",
       "      <th>6515</th>\n",
       "      <td>@Gadh DQ not all bro</td>\n",
       "      <td>not-malayalam</td>\n",
       "    </tr>\n",
       "    <tr>\n",
       "      <th>5862</th>\n",
       "      <td>Tik tok Colony app</td>\n",
       "      <td>Non_hope_speech</td>\n",
       "    </tr>\n",
       "  </tbody>\n",
       "</table>\n",
       "</div>"
      ],
      "text/plain": [
       "                                                   text            label\n",
       "4337       Innu pubg delete cheythit video kanunna njan  Non_hope_speech\n",
       "6063  Apol made in India enn vivo de putiya phonil u...  Non_hope_speech\n",
       "1228         @surya kiran മനുഷ്യനും മൃഗവും വേറെ വേറയാണ്  Non_hope_speech\n",
       "6515                               @Gadh DQ not all bro    not-malayalam\n",
       "5862                                 Tik tok Colony app  Non_hope_speech"
      ]
     },
     "execution_count": 18,
     "metadata": {},
     "output_type": "execute_result"
    }
   ],
   "source": [
    "mal_train.sample(5)"
   ]
  },
  {
   "cell_type": "code",
   "execution_count": 19,
   "id": "15b56823",
   "metadata": {},
   "outputs": [
    {
     "data": {
      "text/html": [
       "<div>\n",
       "<style scoped>\n",
       "    .dataframe tbody tr th:only-of-type {\n",
       "        vertical-align: middle;\n",
       "    }\n",
       "\n",
       "    .dataframe tbody tr th {\n",
       "        vertical-align: top;\n",
       "    }\n",
       "\n",
       "    .dataframe thead th {\n",
       "        text-align: right;\n",
       "    }\n",
       "</style>\n",
       "<table border=\"1\" class=\"dataframe\">\n",
       "  <thead>\n",
       "    <tr style=\"text-align: right;\">\n",
       "      <th></th>\n",
       "      <th>text</th>\n",
       "      <th>label</th>\n",
       "    </tr>\n",
       "  </thead>\n",
       "  <tbody>\n",
       "    <tr>\n",
       "      <th>755</th>\n",
       "      <td>കോട്ടിട്ട പൊട്ടൻ ന്ന് ഒക്കെ കേട്ടിട്ടെ ഉള്ളു ഇ...</td>\n",
       "      <td>Non_hope_speech</td>\n",
       "    </tr>\n",
       "    <tr>\n",
       "      <th>490</th>\n",
       "      <td>Kevine aa coatinte  Vila kalayan ayit...ninak ...</td>\n",
       "      <td>Non_hope_speech</td>\n",
       "    </tr>\n",
       "    <tr>\n",
       "      <th>861</th>\n",
       "      <td>@surya kiran واذا خاطبهم الجاهلون قالوا سلاما</td>\n",
       "      <td>not-malayalam</td>\n",
       "    </tr>\n",
       "    <tr>\n",
       "      <th>704</th>\n",
       "      <td>അതെ ഇവർ രണ്ട് നീച ജന്മങ്ങൾ</td>\n",
       "      <td>Non_hope_speech</td>\n",
       "    </tr>\n",
       "    <tr>\n",
       "      <th>1059</th>\n",
       "      <td>@Varun Punnala nഎനിക്ക് തോന്നുന്നത് അതും chang...</td>\n",
       "      <td>Non_hope_speech</td>\n",
       "    </tr>\n",
       "  </tbody>\n",
       "</table>\n",
       "</div>"
      ],
      "text/plain": [
       "                                                   text            label\n",
       "755   കോട്ടിട്ട പൊട്ടൻ ന്ന് ഒക്കെ കേട്ടിട്ടെ ഉള്ളു ഇ...  Non_hope_speech\n",
       "490   Kevine aa coatinte  Vila kalayan ayit...ninak ...  Non_hope_speech\n",
       "861       @surya kiran واذا خاطبهم الجاهلون قالوا سلاما    not-malayalam\n",
       "704                          അതെ ഇവർ രണ്ട് നീച ജന്മങ്ങൾ  Non_hope_speech\n",
       "1059  @Varun Punnala nഎനിക്ക് തോന്നുന്നത് അതും chang...  Non_hope_speech"
      ]
     },
     "execution_count": 19,
     "metadata": {},
     "output_type": "execute_result"
    }
   ],
   "source": [
    "mal_validation.sample(5)"
   ]
  },
  {
   "cell_type": "code",
   "execution_count": 20,
   "id": "5cbfc7c0",
   "metadata": {},
   "outputs": [
    {
     "data": {
      "text/html": [
       "<div>\n",
       "<style scoped>\n",
       "    .dataframe tbody tr th:only-of-type {\n",
       "        vertical-align: middle;\n",
       "    }\n",
       "\n",
       "    .dataframe tbody tr th {\n",
       "        vertical-align: top;\n",
       "    }\n",
       "\n",
       "    .dataframe thead th {\n",
       "        text-align: right;\n",
       "    }\n",
       "</style>\n",
       "<table border=\"1\" class=\"dataframe\">\n",
       "  <thead>\n",
       "    <tr style=\"text-align: right;\">\n",
       "      <th></th>\n",
       "      <th>text</th>\n",
       "      <th>label</th>\n",
       "    </tr>\n",
       "  </thead>\n",
       "  <tbody>\n",
       "    <tr>\n",
       "      <th>943</th>\n",
       "      <td>Vann kzhinnala pinna varanum chance Indo plz r...</td>\n",
       "      <td>Non_hope_speech</td>\n",
       "    </tr>\n",
       "    <tr>\n",
       "      <th>944</th>\n",
       "      <td>Super God bless you.  Sonu nikuuu</td>\n",
       "      <td>not-Malayalam</td>\n",
       "    </tr>\n",
       "    <tr>\n",
       "      <th>529</th>\n",
       "      <td>എന്റെ മക്കൾക്ക് വിവാഹാശംസകൾ നേരുന്നു അതുപോലെ ന...</td>\n",
       "      <td>Hope_speech</td>\n",
       "    </tr>\n",
       "    <tr>\n",
       "      <th>378</th>\n",
       "      <td>ദൈവം സഹായിച്ച് എനിക്ക് പുരുഷ ഫോർമോണിന്റെ കുറവൊ...</td>\n",
       "      <td>Non_hope_speech</td>\n",
       "    </tr>\n",
       "    <tr>\n",
       "      <th>556</th>\n",
       "      <td>Amma karayanda. Makkalu karanja ammakku sahikk...</td>\n",
       "      <td>Hope_speech</td>\n",
       "    </tr>\n",
       "  </tbody>\n",
       "</table>\n",
       "</div>"
      ],
      "text/plain": [
       "                                                  text            label\n",
       "943  Vann kzhinnala pinna varanum chance Indo plz r...  Non_hope_speech\n",
       "944                  Super God bless you.  Sonu nikuuu    not-Malayalam\n",
       "529  എന്റെ മക്കൾക്ക് വിവാഹാശംസകൾ നേരുന്നു അതുപോലെ ന...      Hope_speech\n",
       "378  ദൈവം സഹായിച്ച് എനിക്ക് പുരുഷ ഫോർമോണിന്റെ കുറവൊ...  Non_hope_speech\n",
       "556  Amma karayanda. Makkalu karanja ammakku sahikk...      Hope_speech"
      ]
     },
     "execution_count": 20,
     "metadata": {},
     "output_type": "execute_result"
    }
   ],
   "source": [
    "mal_test.sample(5)"
   ]
  },
  {
   "cell_type": "code",
   "execution_count": 21,
   "id": "07ffd56d",
   "metadata": {},
   "outputs": [
    {
     "name": "stdout",
     "output_type": "stream",
     "text": [
      "<class 'pandas.core.frame.DataFrame'>\n",
      "RangeIndex: 8564 entries, 0 to 8563\n",
      "Data columns (total 2 columns):\n",
      " #   Column  Non-Null Count  Dtype \n",
      "---  ------  --------------  ----- \n",
      " 0   text    8564 non-null   object\n",
      " 1   label   8564 non-null   object\n",
      "dtypes: object(2)\n",
      "memory usage: 133.9+ KB\n"
     ]
    }
   ],
   "source": [
    "mal_train.info()"
   ]
  },
  {
   "cell_type": "code",
   "execution_count": 22,
   "id": "dd40a116",
   "metadata": {},
   "outputs": [
    {
     "name": "stdout",
     "output_type": "stream",
     "text": [
      "<class 'pandas.core.frame.DataFrame'>\n",
      "RangeIndex: 1070 entries, 0 to 1069\n",
      "Data columns (total 2 columns):\n",
      " #   Column  Non-Null Count  Dtype \n",
      "---  ------  --------------  ----- \n",
      " 0   text    1070 non-null   object\n",
      " 1   label   1070 non-null   object\n",
      "dtypes: object(2)\n",
      "memory usage: 16.8+ KB\n"
     ]
    }
   ],
   "source": [
    "mal_validation.info()"
   ]
  },
  {
   "cell_type": "code",
   "execution_count": 23,
   "id": "8cb2165d",
   "metadata": {},
   "outputs": [
    {
     "name": "stdout",
     "output_type": "stream",
     "text": [
      "<class 'pandas.core.frame.DataFrame'>\n",
      "RangeIndex: 1071 entries, 0 to 1070\n",
      "Data columns (total 2 columns):\n",
      " #   Column  Non-Null Count  Dtype \n",
      "---  ------  --------------  ----- \n",
      " 0   text    1071 non-null   object\n",
      " 1   label   1071 non-null   object\n",
      "dtypes: object(2)\n",
      "memory usage: 16.9+ KB\n"
     ]
    }
   ],
   "source": [
    "mal_test.info()"
   ]
  },
  {
   "cell_type": "markdown",
   "id": "5ccf7f82",
   "metadata": {},
   "source": [
    "### Get label counts for train/validation/test data and visualize"
   ]
  },
  {
   "cell_type": "code",
   "execution_count": 24,
   "id": "f696998b",
   "metadata": {},
   "outputs": [
    {
     "name": "stdout",
     "output_type": "stream",
     "text": [
      "Non_hope_speech    6205\n",
      "Hope_speech        1668\n",
      "not-malayalam       691\n",
      "Name: label, dtype: int64\n",
      "Non_hope_speech    784\n",
      "Hope_speech        190\n",
      "not-malayalam       96\n",
      "Name: label, dtype: int64\n",
      "Non_hope_speech    776\n",
      "Hope_speech        194\n",
      "not-Malayalam      101\n",
      "Name: label, dtype: int64\n"
     ]
    }
   ],
   "source": [
    "label_counts_train = mal_train['label'].value_counts()\n",
    "label_counts_valid = mal_validation['label'].value_counts()\n",
    "label_counts_test = mal_test['label'].value_counts()\n",
    "print(label_counts_train)\n",
    "print(label_counts_valid)\n",
    "print(label_counts_test)"
   ]
  },
  {
   "cell_type": "code",
   "execution_count": 25,
   "id": "11a8c3c1",
   "metadata": {},
   "outputs": [
    {
     "name": "stdout",
     "output_type": "stream",
     "text": [
      "Non_hope_speech    0.724545\n",
      "Hope_speech        0.194769\n",
      "not-malayalam      0.080687\n",
      "Name: label, dtype: float64\n",
      "Non_hope_speech    0.73271\n",
      "Hope_speech        0.17757\n",
      "not-malayalam      0.08972\n",
      "Name: label, dtype: float64\n",
      "Non_hope_speech    0.724556\n",
      "Hope_speech        0.181139\n",
      "not-Malayalam      0.094304\n",
      "Name: label, dtype: float64\n"
     ]
    }
   ],
   "source": [
    "nlabel_counts_train = mal_train['label'].value_counts(normalize=True)\n",
    "nlabel_counts_valid = mal_validation['label'].value_counts(normalize=True)\n",
    "nlabel_counts_test = mal_test['label'].value_counts(normalize=True)\n",
    "print(nlabel_counts_train)\n",
    "print(nlabel_counts_valid)\n",
    "print(nlabel_counts_test)"
   ]
  },
  {
   "cell_type": "code",
   "execution_count": 26,
   "id": "cee9fbc7",
   "metadata": {},
   "outputs": [
    {
     "data": {
      "image/png": "[encoded data removed]",
      "text/plain": [
       "<Figure size 1800x432 with 3 Axes>"
      ]
     },
     "metadata": {
      "needs_background": "light"
     },
     "output_type": "display_data"
    }
   ],
   "source": [
    "fig = plt.figure(figsize=(25,6))\n",
    "fig.subplots(1, 3, squeeze=False)\n",
    "plt.subplot(1,3,1)\n",
    "sns.barplot(x=label_counts_train.index, y=label_counts_train.values)\n",
    "plt.title('Train labels')\n",
    "plt.subplot(1,3,2)\n",
    "sns.barplot(x=label_counts_valid.index, y=label_counts_valid.values)\n",
    "plt.title('Validation labels')\n",
    "plt.subplot(1,3,3)\n",
    "sns.barplot(x=label_counts_test.index, y=label_counts_test.values)\n",
    "plt.title('Test labels')\n",
    "plt.show()"
   ]
  },
  {
   "cell_type": "markdown",
   "id": "da4ee670",
   "metadata": {},
   "source": [
    "- We can observe that there is a class imbalance across the target labels\n",
    "- The ratio of the target labels are almost similar across train/test/validation datasets"
   ]
  },
  {
   "cell_type": "markdown",
   "id": "e79769e5",
   "metadata": {},
   "source": [
    "### Get the word count for each text and visualize"
   ]
  },
  {
   "cell_type": "code",
   "execution_count": 27,
   "id": "36596040",
   "metadata": {},
   "outputs": [],
   "source": [
    "mal_train[\"WordCount\"] = mal_train[\"text\"].str.split().apply(len)\n",
    "mal_validation[\"WordCount\"] = mal_validation[\"text\"].str.split().apply(len)\n",
    "mal_test[\"WordCount\"] = mal_test[\"text\"].str.split().apply(len)"
   ]
  },
  {
   "cell_type": "code",
   "execution_count": 28,
   "id": "5d4c27bc",
   "metadata": {},
   "outputs": [
    {
     "data": {
      "image/png": "[encoded data removed]",
      "text/plain": [
       "<Figure size 1800x432 with 3 Axes>"
      ]
     },
     "metadata": {
      "needs_background": "light"
     },
     "output_type": "display_data"
    }
   ],
   "source": [
    "fig = plt.figure(figsize=(25,6))\n",
    "fig.subplots(1, 3, squeeze=False)\n",
    "plt.subplot(1,3,1)\n",
    "sns.boxplot(data=mal_train, x='label', y='WordCount')\n",
    "plt.title('Train word count distribution')\n",
    "plt.subplot(1,3,2)\n",
    "sns.boxplot(data=mal_validation, x='label', y='WordCount')\n",
    "plt.title('Validation word count distribution')\n",
    "plt.subplot(1,3,3)\n",
    "sns.boxplot(data=mal_test, x='label', y='WordCount')\n",
    "plt.title('Test word count distribution')\n",
    "plt.show()"
   ]
  },
  {
   "cell_type": "markdown",
   "id": "0eb3550c",
   "metadata": {},
   "source": [
    "- We can observe that max length of the texts is less than 100 words with outliers in the range of 40-100\n",
    "- 'Not-malayalam' texts are usually short (<40 words) compared to other two labels"
   ]
  },
  {
   "cell_type": "markdown",
   "id": "8e9f27ae",
   "metadata": {},
   "source": [
    "## Pre-processing "
   ]
  },
  {
   "cell_type": "code",
   "execution_count": 29,
   "id": "f4499fcc",
   "metadata": {},
   "outputs": [],
   "source": [
    "#!pip install langdetect\n",
    "#!pip install google_trans_new\n",
    "#!pip install demoji\n",
    "#!pip install advertools\n",
    "#!pip install indicnlp"
   ]
  },
  {
   "cell_type": "code",
   "execution_count": 30,
   "id": "637e43d7",
   "metadata": {},
   "outputs": [],
   "source": [
    "from langdetect import detect\n",
    "from google_trans_new import google_translator\n",
    "import demoji\n",
    "#demoji.download_codes()\n",
    "import advertools as adv"
   ]
  },
  {
   "cell_type": "code",
   "execution_count": 31,
   "id": "1aaf29d0",
   "metadata": {},
   "outputs": [],
   "source": [
    "def replace_emoticons(text):\n",
    "    # Check if emoji is contained in text\n",
    "    found_emoji = demoji.findall(text)\n",
    "    if found_emoji:\n",
    "        for key, value in found_emoji.items():\n",
    "            text = text.replace(key, value + ' ')\n",
    "    return text"
   ]
  },
  {
   "cell_type": "code",
   "execution_count": 32,
   "id": "b9a65c6d",
   "metadata": {},
   "outputs": [],
   "source": [
    "list_of_stop_words = adv.stopwords['tamil']\n",
    "def remove_stopwords_tamil(line):\n",
    "    sent = ''\n",
    "    for i in line.split():\n",
    "        if i not in list_of_stop_words:\n",
    "            sent+=i + \" \"\n",
    "    return sent"
   ]
  },
  {
   "cell_type": "code",
   "execution_count": 33,
   "id": "8c734a30",
   "metadata": {},
   "outputs": [],
   "source": [
    "def remove_stopwords(df, lang):\n",
    "    list_of_stop_words = adv.stopwords['tamil']\n",
    "    new_df=pd.DataFrame(columns=['text','label'])\n",
    "    for index, row in df.iterrows():\n",
    "        sent = ''\n",
    "        end = {}\n",
    "        line=str(row['text'])\n",
    "        for i in line.split():\n",
    "            if i not in list_of_stop_words:\n",
    "                sent+=i + \" \"\n",
    "        end['text']=sent\n",
    "        end['label']=str(row['label'])\n",
    "        new_df=new_df.append(end,ignore_index=True)\n",
    "    return new_df"
   ]
  },
  {
   "cell_type": "code",
   "execution_count": 34,
   "id": "b28036f8",
   "metadata": {},
   "outputs": [],
   "source": [
    "tamil_train['text'] = tamil_train['text'].apply(replace_emoticons)\n",
    "tamil_validation['text'] = tamil_validation['text'].apply(replace_emoticons)\n",
    "tamil_test['text'] = tamil_test['text'].apply(replace_emoticons)\n",
    "mal_train['text'] = mal_train['text'].apply(replace_emoticons)\n",
    "mal_validation['text'] = mal_validation['text'].apply(replace_emoticons)\n",
    "mal_test['text'] = mal_test['text'].apply(replace_emoticons)"
   ]
  },
  {
   "cell_type": "code",
   "execution_count": 35,
   "id": "47e70fec",
   "metadata": {},
   "outputs": [
    {
     "data": {
      "text/html": [
       "<div>\n",
       "<style scoped>\n",
       "    .dataframe tbody tr th:only-of-type {\n",
       "        vertical-align: middle;\n",
       "    }\n",
       "\n",
       "    .dataframe tbody tr th {\n",
       "        vertical-align: top;\n",
       "    }\n",
       "\n",
       "    .dataframe thead th {\n",
       "        text-align: right;\n",
       "    }\n",
       "</style>\n",
       "<table border=\"1\" class=\"dataframe\">\n",
       "  <thead>\n",
       "    <tr style=\"text-align: right;\">\n",
       "      <th></th>\n",
       "      <th>text</th>\n",
       "      <th>label</th>\n",
       "      <th>WordCount</th>\n",
       "    </tr>\n",
       "  </thead>\n",
       "  <tbody>\n",
       "    <tr>\n",
       "      <th>0</th>\n",
       "      <td>Realme india product</td>\n",
       "      <td>not-Tamil</td>\n",
       "      <td>3</td>\n",
       "    </tr>\n",
       "    <tr>\n",
       "      <th>1</th>\n",
       "      <td>I also don't have tiktok hello and allnBut I'm...</td>\n",
       "      <td>Hope_speech</td>\n",
       "      <td>11</td>\n",
       "    </tr>\n",
       "    <tr>\n",
       "      <th>2</th>\n",
       "      <td>Thalaivare..neengale inum one plus mobile vach...</td>\n",
       "      <td>Non_hope_speech</td>\n",
       "      <td>7</td>\n",
       "    </tr>\n",
       "    <tr>\n",
       "      <th>3</th>\n",
       "      <td>Annee varanda thondai.. corona virus affect pa...</td>\n",
       "      <td>Hope_speech</td>\n",
       "      <td>16</td>\n",
       "    </tr>\n",
       "    <tr>\n",
       "      <th>4</th>\n",
       "      <td>5views but 18likes</td>\n",
       "      <td>Non_hope_speech</td>\n",
       "      <td>3</td>\n",
       "    </tr>\n",
       "  </tbody>\n",
       "</table>\n",
       "</div>"
      ],
      "text/plain": [
       "                                                text            label  \\\n",
       "0                               Realme india product        not-Tamil   \n",
       "1  I also don't have tiktok hello and allnBut I'm...      Hope_speech   \n",
       "2  Thalaivare..neengale inum one plus mobile vach...  Non_hope_speech   \n",
       "3  Annee varanda thondai.. corona virus affect pa...      Hope_speech   \n",
       "4                                 5views but 18likes  Non_hope_speech   \n",
       "\n",
       "   WordCount  \n",
       "0          3  \n",
       "1         11  \n",
       "2          7  \n",
       "3         16  \n",
       "4          3  "
      ]
     },
     "execution_count": 35,
     "metadata": {},
     "output_type": "execute_result"
    }
   ],
   "source": [
    "tamil_train.head()"
   ]
  },
  {
   "cell_type": "code",
   "execution_count": 36,
   "id": "976feec4",
   "metadata": {},
   "outputs": [],
   "source": [
    "tamil_train['text'] = tamil_train['text'].apply(remove_stopwords_tamil)\n",
    "tamil_validation['text'] = tamil_validation['text'].apply(remove_stopwords_tamil)\n",
    "tamil_test['text'] = tamil_test['text'].apply(remove_stopwords_tamil)"
   ]
  },
  {
   "cell_type": "code",
   "execution_count": 37,
   "id": "fbf559d1",
   "metadata": {},
   "outputs": [],
   "source": [
    "from indicnlp.normalize.indic_normalize import IndicNormalizerFactory"
   ]
  },
  {
   "cell_type": "code",
   "execution_count": 38,
   "id": "79678243",
   "metadata": {},
   "outputs": [],
   "source": [
    "def normalize_tamil(input_text):\n",
    "    remove_nuktas=False\n",
    "    factory=IndicNormalizerFactory()\n",
    "    normalizer=factory.get_normalizer('ta', remove_nuktas=True)\n",
    "    return normalizer.normalize(input_text)"
   ]
  },
  {
   "cell_type": "code",
   "execution_count": 39,
   "id": "ef1979e0",
   "metadata": {},
   "outputs": [],
   "source": [
    "def normalize_mal(input_text):\n",
    "    remove_nuktas=False\n",
    "    factory=IndicNormalizerFactory()\n",
    "    normalizer=factory.get_normalizer('ml', remove_nuktas=True)\n",
    "    return normalizer.normalize(input_text)"
   ]
  },
  {
   "cell_type": "code",
   "execution_count": 40,
   "id": "b3e0404f",
   "metadata": {},
   "outputs": [],
   "source": [
    "tamil_train['text'] = tamil_train['text'].apply(normalize_tamil)\n",
    "tamil_validation['text'] = tamil_validation['text'].apply(normalize_tamil)\n",
    "tamil_test['text'] = tamil_test['text'].apply(normalize_tamil)"
   ]
  },
  {
   "cell_type": "code",
   "execution_count": 41,
   "id": "98b6e3f6",
   "metadata": {},
   "outputs": [],
   "source": [
    "mal_train['text'] = mal_train['text'].apply(normalize_mal)\n",
    "mal_validation['text'] = mal_validation['text'].apply(normalize_mal)\n",
    "mal_test['text'] = mal_test['text'].apply(normalize_mal)"
   ]
  },
  {
   "cell_type": "markdown",
   "id": "73c8335a",
   "metadata": {},
   "source": [
    "### Write the pre-processed output as csv files"
   ]
  },
  {
   "cell_type": "code",
   "execution_count": 44,
   "id": "80f78dd8",
   "metadata": {},
   "outputs": [],
   "source": [
    "tamil_train.drop(columns=['WordCount'], inplace=True)\n",
    "tamil_validation.drop(columns=['WordCount'], inplace=True)\n",
    "tamil_test.drop(columns=['WordCount'], inplace=True)\n",
    "mal_train.drop(columns=['WordCount'], inplace=True)\n",
    "mal_validation.drop(columns=['WordCount'], inplace=True)\n",
    "mal_test.drop(columns=['WordCount'], inplace=True)"
   ]
  },
  {
   "cell_type": "code",
   "execution_count": 53,
   "id": "e1837a82",
   "metadata": {},
   "outputs": [
    {
     "data": {
      "text/plain": [
       "array(['Non_hope_speech', 'Hope_speech', 'not-malayalam'], dtype=object)"
      ]
     },
     "execution_count": 53,
     "metadata": {},
     "output_type": "execute_result"
    }
   ],
   "source": [
    "mal_train['label'].unique()"
   ]
  },
  {
   "cell_type": "code",
   "execution_count": 54,
   "id": "f0f8cfa9",
   "metadata": {},
   "outputs": [
    {
     "data": {
      "text/plain": [
       "array(['Non_hope_speech', 'not-Malayalam', 'Hope_speech'], dtype=object)"
      ]
     },
     "execution_count": 54,
     "metadata": {},
     "output_type": "execute_result"
    }
   ],
   "source": [
    "mal_test['label'].unique()"
   ]
  },
  {
   "cell_type": "code",
   "execution_count": 55,
   "id": "3b57aac5",
   "metadata": {},
   "outputs": [],
   "source": [
    "mal_train['label'] = mal_train['label'].replace(['not-malayalam'], 'not-Malayalam')\n",
    "mal_validation['label'] = mal_validation['label'].replace(['not-malayalam'], 'not-Malayalam')"
   ]
  },
  {
   "cell_type": "code",
   "execution_count": 56,
   "id": "aa9f469d",
   "metadata": {},
   "outputs": [
    {
     "data": {
      "text/plain": [
       "array(['Non_hope_speech', 'Hope_speech', 'not-Malayalam'], dtype=object)"
      ]
     },
     "execution_count": 56,
     "metadata": {},
     "output_type": "execute_result"
    }
   ],
   "source": [
    "mal_train['label'].unique()"
   ]
  },
  {
   "cell_type": "code",
   "execution_count": null,
   "id": "f834edf3",
   "metadata": {},
   "outputs": [],
   "source": [
    "tamil_train.to_csv('Dataset/preprocessed_hope_edi_tamil_train.csv', index=False)\n",
    "tamil_validation.to_csv('Dataset/preprocessed_hope_edi_tamil_valid.csv', index=False)\n",
    "tamil_test.to_csv('Dataset/preprocessed_hope_edi_tamil_test.csv', index=False)"
   ]
  },
  {
   "cell_type": "code",
   "execution_count": 57,
   "id": "b6b30428",
   "metadata": {},
   "outputs": [],
   "source": [
    "mal_train.to_csv('Dataset/preprocessed_hope_edi_mal_train.csv', index=False)\n",
    "mal_validation.to_csv('Dataset/preprocessed_hope_edi_mal_valid.csv', index=False)\n",
    "mal_test.to_csv('Dataset/preprocessed_hope_edi_mal_test.csv', index=False)"
   ]
  },
  {
   "cell_type": "code",
   "execution_count": null,
   "id": "ff5b8982",
   "metadata": {},
   "outputs": [],
   "source": []
  }
 ],
 "metadata": {
  "kernelspec": {
   "display_name": "Python 3 (ipykernel)",
   "language": "python",
   "name": "python3"
  },
  "language_info": {
   "codemirror_mode": {
    "name": "ipython",
    "version": 3
   },
   "file_extension": ".py",
   "mimetype": "text/x-python",
   "name": "python",
   "nbconvert_exporter": "python",
   "pygments_lexer": "ipython3",
   "version": "3.7.3"
  }
 },
 "nbformat": 4,
 "nbformat_minor": 5
}
